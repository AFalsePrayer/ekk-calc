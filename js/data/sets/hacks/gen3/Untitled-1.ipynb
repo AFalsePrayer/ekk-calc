{
 "cells": [
  {
   "cell_type": "markdown",
   "metadata": {},
   "source": []
  },
  {
   "cell_type": "code",
   "execution_count": 56,
   "metadata": {},
   "outputs": [],
   "source": [
    "import pandas as pd\n",
    "import json"
   ]
  },
  {
   "cell_type": "code",
   "execution_count": 334,
   "metadata": {},
   "outputs": [],
   "source": [
    "x = pd.read_json(path_or_buf=\"C:/Users/Rosaline/Documents/Dev_Projects/ekk-calc/src/js/data/sets/hacks/gen3/ekk.json\", orient='index').T\n",
    "\n",
    "for col in x:\n",
    "    for s in x[col]:\n",
    "        # poritype(s)\n",
    "        if(type(s) == dict):\n",
    "            s['species'] = col  "
   ]
  },
  {
   "cell_type": "code",
   "execution_count": 189,
   "metadata": {},
   "outputs": [
    {
     "data": {
      "text/plain": [
       "{'ability': 'Pressure',\n",
       " 'level': '51',\n",
       " 'item': 'Lum Berry',\n",
       " 'moves': ['Shadow Ball',\n",
       "  'Swords Dance',\n",
       "  'Quick Attack',\n",
       "  'Hidden Power Fighting'],\n",
       " 'nature': 'Calm',\n",
       " 'species': 'Absol'}"
      ]
     },
     "execution_count": 189,
     "metadata": {},
     "output_type": "execute_result"
    }
   ],
   "source": [
    "x.iat[1,0]"
   ]
  },
  {
   "cell_type": "code",
   "execution_count": 335,
   "metadata": {},
   "outputs": [],
   "source": [
    "x = x.T.reset_index().drop(['index'], axis=1).T"
   ]
  },
  {
   "cell_type": "code",
   "execution_count": 196,
   "metadata": {},
   "outputs": [
    {
     "data": {
      "text/plain": [
       "11    {'ability': 'Levitate', 'level': '40', 'item':...\n",
       "34    {'ability': 'Rock Head', 'level': '40', 'item'...\n",
       "35    {'ability': 'Intimidate', 'level': '40', 'item...\n",
       "36    {'ability': 'Early Bird', 'level': '40', 'item...\n",
       "37    {'ability': 'Intimidate', 'level': '40', 'item...\n",
       "38    {'ability': 'Levitate', 'level': '40', 'item':...\n",
       "Name: Magma Admin Tabitha #1, dtype: object"
      ]
     },
     "execution_count": 196,
     "metadata": {},
     "output_type": "execute_result"
    }
   ],
   "source": [
    "x.iloc[12].dropna()"
   ]
  },
  {
   "cell_type": "code",
   "execution_count": 336,
   "metadata": {},
   "outputs": [],
   "source": [
    "h = x.iloc[12].dropna().reset_index().drop(['index'], axis=1).iloc[:, 0].to_dict()"
   ]
  },
  {
   "cell_type": "code",
   "execution_count": 227,
   "metadata": {},
   "outputs": [
    {
     "data": {
      "text/plain": [
       "dict"
      ]
     },
     "execution_count": 227,
     "metadata": {},
     "output_type": "execute_result"
    }
   ],
   "source": [
    "type(h)"
   ]
  },
  {
   "cell_type": "code",
   "execution_count": 337,
   "metadata": {},
   "outputs": [],
   "source": [
    "for lol in h.values():\n",
    "    lol['trainer'] = x.index[1]"
   ]
  },
  {
   "cell_type": "code",
   "execution_count": 251,
   "metadata": {},
   "outputs": [
    {
     "data": {
      "text/plain": [
       "{0: {'ability': 'Levitate',\n",
       "  'level': '40',\n",
       "  'item': 'Lum Berry',\n",
       "  'moves': ['Earthquake', 'Giga Drain', 'Signal Beam', 'Rock Slide'],\n",
       "  'species': 'Flygon',\n",
       "  'trainer': 'Ninja Boy Yasu'},\n",
       " 1: {'ability': 'Rock Head',\n",
       "  'level': '40',\n",
       "  'item': 'Quick Claw',\n",
       "  'moves': ['Head Smash', 'Superpower', 'Earthquake', 'Flash Cannon'],\n",
       "  'nature': 'Impish',\n",
       "  'species': 'Aggron',\n",
       "  'trainer': 'Ninja Boy Yasu'},\n",
       " 2: {'ability': 'Intimidate',\n",
       "  'level': '40',\n",
       "  'item': 'Lum Berry',\n",
       "  'moves': ['Overheat', 'Extreme Speed', 'Hidden Power Grass', 'Wild Charge'],\n",
       "  'nature': 'Brave',\n",
       "  'species': 'Arcanine',\n",
       "  'trainer': 'Ninja Boy Yasu'},\n",
       " 3: {'ability': 'Early Bird',\n",
       "  'level': '40',\n",
       "  'item': 'Lum Berry',\n",
       "  'moves': ['Double-Edge',\n",
       "   'Hidden Power Ground',\n",
       "   'Quick Attack',\n",
       "   'Drill Peck'],\n",
       "  'species': 'Dodrio',\n",
       "  'trainer': 'Ninja Boy Yasu'},\n",
       " 4: {'ability': 'Intimidate',\n",
       "  'level': '40',\n",
       "  'item': 'Lum Berry',\n",
       "  'moves': ['Hidden Power Water', 'Crunch', 'Overheat', 'Thunderbolt'],\n",
       "  'nature': 'Jolly',\n",
       "  'species': 'Manectric',\n",
       "  'trainer': 'Ninja Boy Yasu'},\n",
       " 5: {'ability': 'Levitate',\n",
       "  'level': '40',\n",
       "  'item': 'Lum Berry',\n",
       "  'moves': ['Explosion', 'Gunk Shot', 'Flamethrower', 'Hidden Power Grass'],\n",
       "  'species': 'Weezing',\n",
       "  'trainer': 'Ninja Boy Yasu'}}"
      ]
     },
     "execution_count": 251,
     "metadata": {},
     "output_type": "execute_result"
    }
   ],
   "source": [
    "h"
   ]
  },
  {
   "cell_type": "code",
   "execution_count": 338,
   "metadata": {},
   "outputs": [
    {
     "data": {
      "text/html": [
       "<div>\n",
       "<style scoped>\n",
       "    .dataframe tbody tr th:only-of-type {\n",
       "        vertical-align: middle;\n",
       "    }\n",
       "\n",
       "    .dataframe tbody tr th {\n",
       "        vertical-align: top;\n",
       "    }\n",
       "\n",
       "    .dataframe thead th {\n",
       "        text-align: right;\n",
       "    }\n",
       "</style>\n",
       "<table border=\"1\" class=\"dataframe\">\n",
       "  <thead>\n",
       "    <tr style=\"text-align: right;\">\n",
       "      <th></th>\n",
       "      <th>ability</th>\n",
       "      <th>level</th>\n",
       "      <th>item</th>\n",
       "      <th>moves</th>\n",
       "      <th>species</th>\n",
       "      <th>trainer</th>\n",
       "      <th>nature</th>\n",
       "    </tr>\n",
       "  </thead>\n",
       "  <tbody>\n",
       "    <tr>\n",
       "      <th>0</th>\n",
       "      <td>Levitate</td>\n",
       "      <td>40</td>\n",
       "      <td>Lum Berry</td>\n",
       "      <td>[Earthquake, Giga Drain, Signal Beam, Rock Slide]</td>\n",
       "      <td>Flygon</td>\n",
       "      <td>Ninja Boy Yasu</td>\n",
       "      <td>NaN</td>\n",
       "    </tr>\n",
       "    <tr>\n",
       "      <th>1</th>\n",
       "      <td>Rock Head</td>\n",
       "      <td>40</td>\n",
       "      <td>Quick Claw</td>\n",
       "      <td>[Head Smash, Superpower, Earthquake, Flash Can...</td>\n",
       "      <td>Aggron</td>\n",
       "      <td>Ninja Boy Yasu</td>\n",
       "      <td>Impish</td>\n",
       "    </tr>\n",
       "    <tr>\n",
       "      <th>2</th>\n",
       "      <td>Intimidate</td>\n",
       "      <td>40</td>\n",
       "      <td>Lum Berry</td>\n",
       "      <td>[Overheat, Extreme Speed, Hidden Power Grass, ...</td>\n",
       "      <td>Arcanine</td>\n",
       "      <td>Ninja Boy Yasu</td>\n",
       "      <td>Brave</td>\n",
       "    </tr>\n",
       "    <tr>\n",
       "      <th>3</th>\n",
       "      <td>Early Bird</td>\n",
       "      <td>40</td>\n",
       "      <td>Lum Berry</td>\n",
       "      <td>[Double-Edge, Hidden Power Ground, Quick Attac...</td>\n",
       "      <td>Dodrio</td>\n",
       "      <td>Ninja Boy Yasu</td>\n",
       "      <td>NaN</td>\n",
       "    </tr>\n",
       "    <tr>\n",
       "      <th>4</th>\n",
       "      <td>Intimidate</td>\n",
       "      <td>40</td>\n",
       "      <td>Lum Berry</td>\n",
       "      <td>[Hidden Power Water, Crunch, Overheat, Thunder...</td>\n",
       "      <td>Manectric</td>\n",
       "      <td>Ninja Boy Yasu</td>\n",
       "      <td>Jolly</td>\n",
       "    </tr>\n",
       "    <tr>\n",
       "      <th>5</th>\n",
       "      <td>Levitate</td>\n",
       "      <td>40</td>\n",
       "      <td>Lum Berry</td>\n",
       "      <td>[Explosion, Gunk Shot, Flamethrower, Hidden Po...</td>\n",
       "      <td>Weezing</td>\n",
       "      <td>Ninja Boy Yasu</td>\n",
       "      <td>NaN</td>\n",
       "    </tr>\n",
       "  </tbody>\n",
       "</table>\n",
       "</div>"
      ],
      "text/plain": [
       "      ability  level        item  \\\n",
       "0    Levitate     40   Lum Berry   \n",
       "1   Rock Head     40  Quick Claw   \n",
       "2  Intimidate     40   Lum Berry   \n",
       "3  Early Bird     40   Lum Berry   \n",
       "4  Intimidate     40   Lum Berry   \n",
       "5    Levitate     40   Lum Berry   \n",
       "\n",
       "                                               moves    species  \\\n",
       "0  [Earthquake, Giga Drain, Signal Beam, Rock Slide]     Flygon   \n",
       "1  [Head Smash, Superpower, Earthquake, Flash Can...     Aggron   \n",
       "2  [Overheat, Extreme Speed, Hidden Power Grass, ...   Arcanine   \n",
       "3  [Double-Edge, Hidden Power Ground, Quick Attac...     Dodrio   \n",
       "4  [Hidden Power Water, Crunch, Overheat, Thunder...  Manectric   \n",
       "5  [Explosion, Gunk Shot, Flamethrower, Hidden Po...    Weezing   \n",
       "\n",
       "          trainer  nature  \n",
       "0  Ninja Boy Yasu     NaN  \n",
       "1  Ninja Boy Yasu  Impish  \n",
       "2  Ninja Boy Yasu   Brave  \n",
       "3  Ninja Boy Yasu     NaN  \n",
       "4  Ninja Boy Yasu   Jolly  \n",
       "5  Ninja Boy Yasu     NaN  "
      ]
     },
     "execution_count": 338,
     "metadata": {},
     "output_type": "execute_result"
    }
   ],
   "source": [
    "pd.DataFrame.from_dict(h, orient='index')"
   ]
  },
  {
   "cell_type": "code",
   "execution_count": 339,
   "metadata": {},
   "outputs": [],
   "source": [
    "y = pd.DataFrame(columns=['trainer', 'species', 'ability', 'level', 'item', 'moves', 'nature', 'ivs']);\n",
    "y = y.reindex(sorted(y.columns), axis=1)\n",
    "for i in range(len(x.index)):\n",
    "    js = x.iloc[i].dropna().reset_index().drop(['index'], axis=1).iloc[:, 0].to_dict()\n",
    "    for lo in js.values():\n",
    "        lo['trainer'] = x.index[i]\n",
    "    # print(y.columns)\n",
    "    n = pd.DataFrame.from_dict(js, orient='index')\n",
    "    n = n.reindex(sorted(n.columns), axis=1)\n",
    "    # print(n.columns)\n",
    "    y = pd.concat([y, n])\n",
    "    # y.index = y.index + 1\n",
    "    # y = y.sort_index()"
   ]
  },
  {
   "cell_type": "code",
   "execution_count": 340,
   "metadata": {},
   "outputs": [
    {
     "data": {
      "text/plain": [
       "MultiIndex([('Team Magma Grunt #2 @ Route 112',      'Absol'),\n",
       "            ('Team Magma Grunt #2 @ Route 112',    'Dugtrio'),\n",
       "            ('Team Magma Grunt #2 @ Route 112',   'Magneton'),\n",
       "            ('Team Magma Grunt #2 @ Route 112',  'Ninetales'),\n",
       "            (                 'Ninja Boy Yasu',      'Absol'),\n",
       "            (                 'Ninja Boy Yasu',    'Banette'),\n",
       "            (                 'Ninja Boy Yasu',    'Ninjask'),\n",
       "            (                 'Ninja Boy Yasu',  'Sudowoodo'),\n",
       "            (               'Hex Maniac Tammy',      'Absol'),\n",
       "            (               'Hex Maniac Tammy',    'Banette'),\n",
       "            ...\n",
       "            (                 'Swimmerm Kevin',  'Sudowoodo'),\n",
       "            (            'Bird Keeper Chester',    'Swellow'),\n",
       "            (            'Bird Keeper Chester',    'Togetic'),\n",
       "            (               'Bird Keeper Beck',    'Swellow'),\n",
       "            (                  'Sailor Hudson',    'Walrein'),\n",
       "            (               'Bug Catcher Kent',     'Weedle'),\n",
       "            (                 'Winstrate Vivi', 'Wigglytuff'),\n",
       "            (                 'Swimmerf Susie', 'Wigglytuff'),\n",
       "            (                 'Expert Makayla',  'Wobbuffet'),\n",
       "            (               'Bug Maniac Brent',    'Wurmple')],\n",
       "           names=['trainer', 'species'], length=1447)"
      ]
     },
     "execution_count": 340,
     "metadata": {},
     "output_type": "execute_result"
    }
   ],
   "source": [
    "pd.MultiIndex.from_frame(y[['trainer', 'species']])"
   ]
  },
  {
   "cell_type": "code",
   "execution_count": 341,
   "metadata": {},
   "outputs": [],
   "source": [
    "y = y.set_index(pd.MultiIndex.from_frame(y[['trainer', 'species']]))"
   ]
  },
  {
   "cell_type": "code",
   "execution_count": 342,
   "metadata": {},
   "outputs": [
    {
     "data": {
      "text/plain": [
       "1"
      ]
     },
     "execution_count": 342,
     "metadata": {},
     "output_type": "execute_result"
    }
   ],
   "source": [
    "les = y.loc[\"Aqua Leader Archie\"]['level']\n",
    "les.max() - les.min()"
   ]
  },
  {
   "cell_type": "code",
   "execution_count": 345,
   "metadata": {},
   "outputs": [
    {
     "name": "stdout",
     "output_type": "stream",
     "text": [
      "Cooltrainer Ruben\n"
     ]
    }
   ],
   "source": [
    "for i, j in y.head(72).groupby(level=0):\n",
    "    \n",
    "    x = j['level']\n",
    "    # print(j['level'])\n",
    "    if((x.max() - x.min()) > 2):\n",
    "        print(i)"
   ]
  },
  {
   "cell_type": "code",
   "execution_count": 359,
   "metadata": {},
   "outputs": [],
   "source": [
    "for ent in range(4):\n",
    "    y['move-' + str(ent)] = y['moves'].str[ent]"
   ]
  },
  {
   "cell_type": "code",
   "execution_count": 364,
   "metadata": {},
   "outputs": [],
   "source": [
    "y.drop(['moves'], axis=1)\n",
    "y = y.reindex(sorted(y.columns), axis=1)"
   ]
  },
  {
   "cell_type": "code",
   "execution_count": 365,
   "metadata": {},
   "outputs": [
    {
     "data": {
      "text/html": [
       "<div>\n",
       "<style scoped>\n",
       "    .dataframe tbody tr th:only-of-type {\n",
       "        vertical-align: middle;\n",
       "    }\n",
       "\n",
       "    .dataframe tbody tr th {\n",
       "        vertical-align: top;\n",
       "    }\n",
       "\n",
       "    .dataframe thead th {\n",
       "        text-align: right;\n",
       "    }\n",
       "</style>\n",
       "<table border=\"1\" class=\"dataframe\">\n",
       "  <thead>\n",
       "    <tr style=\"text-align: right;\">\n",
       "      <th></th>\n",
       "      <th></th>\n",
       "      <th>ability</th>\n",
       "      <th>item</th>\n",
       "      <th>ivs</th>\n",
       "      <th>level</th>\n",
       "      <th>move-0</th>\n",
       "      <th>move-1</th>\n",
       "      <th>move-2</th>\n",
       "      <th>move-3</th>\n",
       "      <th>moves</th>\n",
       "      <th>nature</th>\n",
       "      <th>species</th>\n",
       "      <th>trainer</th>\n",
       "    </tr>\n",
       "    <tr>\n",
       "      <th>trainer</th>\n",
       "      <th>species</th>\n",
       "      <th></th>\n",
       "      <th></th>\n",
       "      <th></th>\n",
       "      <th></th>\n",
       "      <th></th>\n",
       "      <th></th>\n",
       "      <th></th>\n",
       "      <th></th>\n",
       "      <th></th>\n",
       "      <th></th>\n",
       "      <th></th>\n",
       "      <th></th>\n",
       "    </tr>\n",
       "  </thead>\n",
       "  <tbody>\n",
       "    <tr>\n",
       "      <th rowspan=\"5\" valign=\"top\">Aqua Admin Matt #1</th>\n",
       "      <th>Dragonite</th>\n",
       "      <td>Thick Fat</td>\n",
       "      <td>Lum Berry</td>\n",
       "      <td>NaN</td>\n",
       "      <td>64</td>\n",
       "      <td>Superpower</td>\n",
       "      <td>Rock Slide</td>\n",
       "      <td>Earthquake</td>\n",
       "      <td>Extreme Speed</td>\n",
       "      <td>[Superpower, Rock Slide, Earthquake, Extreme S...</td>\n",
       "      <td>NaN</td>\n",
       "      <td>Dragonite</td>\n",
       "      <td>Aqua Admin Matt #1</td>\n",
       "    </tr>\n",
       "    <tr>\n",
       "      <th>Exeggutor</th>\n",
       "      <td>Chlorophyll</td>\n",
       "      <td>Quick Claw</td>\n",
       "      <td>NaN</td>\n",
       "      <td>64</td>\n",
       "      <td>Explosion</td>\n",
       "      <td>Egg Bomb</td>\n",
       "      <td>Psychic</td>\n",
       "      <td>Ancient Power</td>\n",
       "      <td>[Explosion, Egg Bomb, Psychic, Ancient Power]</td>\n",
       "      <td>Timid</td>\n",
       "      <td>Exeggutor</td>\n",
       "      <td>Aqua Admin Matt #1</td>\n",
       "    </tr>\n",
       "    <tr>\n",
       "      <th>Gyarados</th>\n",
       "      <td>Intimidate</td>\n",
       "      <td>Bright Powder</td>\n",
       "      <td>NaN</td>\n",
       "      <td>64</td>\n",
       "      <td>Earthquake</td>\n",
       "      <td>Hidden Power Flying</td>\n",
       "      <td>Dragon Dance</td>\n",
       "      <td>Frustration</td>\n",
       "      <td>[Earthquake, Hidden Power Flying, Dragon Dance...</td>\n",
       "      <td>Mild</td>\n",
       "      <td>Gyarados</td>\n",
       "      <td>Aqua Admin Matt #1</td>\n",
       "    </tr>\n",
       "    <tr>\n",
       "      <th>Machamp</th>\n",
       "      <td>Guts</td>\n",
       "      <td>Chesto Berry</td>\n",
       "      <td>NaN</td>\n",
       "      <td>64</td>\n",
       "      <td>Superpower</td>\n",
       "      <td>Earthquake</td>\n",
       "      <td>Rock Slide</td>\n",
       "      <td>Hidden Power Ghost</td>\n",
       "      <td>[Superpower, Earthquake, Rock Slide, Hidden Po...</td>\n",
       "      <td>Impish</td>\n",
       "      <td>Machamp</td>\n",
       "      <td>Aqua Admin Matt #1</td>\n",
       "    </tr>\n",
       "    <tr>\n",
       "      <th>Slaking</th>\n",
       "      <td>Truant</td>\n",
       "      <td>Lum Berry</td>\n",
       "      <td>NaN</td>\n",
       "      <td>64</td>\n",
       "      <td>Hyper Beam</td>\n",
       "      <td>Surf</td>\n",
       "      <td>Earthquake</td>\n",
       "      <td>Shadow Ball</td>\n",
       "      <td>[Hyper Beam, Surf, Earthquake, Shadow Ball]</td>\n",
       "      <td>Gentle</td>\n",
       "      <td>Slaking</td>\n",
       "      <td>Aqua Admin Matt #1</td>\n",
       "    </tr>\n",
       "    <tr>\n",
       "      <th>...</th>\n",
       "      <th>...</th>\n",
       "      <td>...</td>\n",
       "      <td>...</td>\n",
       "      <td>...</td>\n",
       "      <td>...</td>\n",
       "      <td>...</td>\n",
       "      <td>...</td>\n",
       "      <td>...</td>\n",
       "      <td>...</td>\n",
       "      <td>...</td>\n",
       "      <td>...</td>\n",
       "      <td>...</td>\n",
       "      <td>...</td>\n",
       "    </tr>\n",
       "    <tr>\n",
       "      <th rowspan=\"5\" valign=\"top\">Youngster Ray04</th>\n",
       "      <th>Golem</th>\n",
       "      <td>Rock Head</td>\n",
       "      <td>Choice Band</td>\n",
       "      <td>NaN</td>\n",
       "      <td>100</td>\n",
       "      <td>Explosion</td>\n",
       "      <td>NaN</td>\n",
       "      <td>NaN</td>\n",
       "      <td>NaN</td>\n",
       "      <td>[Explosion]</td>\n",
       "      <td>Brave</td>\n",
       "      <td>Golem</td>\n",
       "      <td>Youngster Ray04</td>\n",
       "    </tr>\n",
       "    <tr>\n",
       "      <th>Sableye</th>\n",
       "      <td>Pressure</td>\n",
       "      <td>Leftovers</td>\n",
       "      <td>NaN</td>\n",
       "      <td>100</td>\n",
       "      <td>Shadow Ball</td>\n",
       "      <td>Brick Break</td>\n",
       "      <td>NaN</td>\n",
       "      <td>NaN</td>\n",
       "      <td>[Shadow Ball, Brick Break]</td>\n",
       "      <td>Sassy</td>\n",
       "      <td>Sableye</td>\n",
       "      <td>Youngster Ray04</td>\n",
       "    </tr>\n",
       "    <tr>\n",
       "      <th>Snorlax</th>\n",
       "      <td>Guts</td>\n",
       "      <td>Choice Band</td>\n",
       "      <td>NaN</td>\n",
       "      <td>100</td>\n",
       "      <td>Self-Destruct</td>\n",
       "      <td>NaN</td>\n",
       "      <td>NaN</td>\n",
       "      <td>NaN</td>\n",
       "      <td>[Self-Destruct]</td>\n",
       "      <td>Calm</td>\n",
       "      <td>Snorlax</td>\n",
       "      <td>Youngster Ray04</td>\n",
       "    </tr>\n",
       "    <tr>\n",
       "      <th>Wailord</th>\n",
       "      <td>Pressure</td>\n",
       "      <td>Choice Band</td>\n",
       "      <td>NaN</td>\n",
       "      <td>100</td>\n",
       "      <td>Self-Destruct</td>\n",
       "      <td>NaN</td>\n",
       "      <td>NaN</td>\n",
       "      <td>NaN</td>\n",
       "      <td>[Self-Destruct]</td>\n",
       "      <td>Quiet</td>\n",
       "      <td>Wailord</td>\n",
       "      <td>Youngster Ray04</td>\n",
       "    </tr>\n",
       "    <tr>\n",
       "      <th>Weezing</th>\n",
       "      <td>Levitate</td>\n",
       "      <td>Choice Band</td>\n",
       "      <td>NaN</td>\n",
       "      <td>100</td>\n",
       "      <td>Explosion</td>\n",
       "      <td>NaN</td>\n",
       "      <td>NaN</td>\n",
       "      <td>NaN</td>\n",
       "      <td>[Explosion]</td>\n",
       "      <td>Mild</td>\n",
       "      <td>Weezing</td>\n",
       "      <td>Youngster Ray04</td>\n",
       "    </tr>\n",
       "  </tbody>\n",
       "</table>\n",
       "<p>1447 rows × 12 columns</p>\n",
       "</div>"
      ],
      "text/plain": [
       "                                  ability           item  ivs level  \\\n",
       "trainer            species                                            \n",
       "Aqua Admin Matt #1 Dragonite    Thick Fat      Lum Berry  NaN    64   \n",
       "                   Exeggutor  Chlorophyll     Quick Claw  NaN    64   \n",
       "                   Gyarados    Intimidate  Bright Powder  NaN    64   \n",
       "                   Machamp           Guts   Chesto Berry  NaN    64   \n",
       "                   Slaking         Truant      Lum Berry  NaN    64   \n",
       "...                                   ...            ...  ...   ...   \n",
       "Youngster Ray04    Golem        Rock Head    Choice Band  NaN   100   \n",
       "                   Sableye       Pressure      Leftovers  NaN   100   \n",
       "                   Snorlax           Guts    Choice Band  NaN   100   \n",
       "                   Wailord       Pressure    Choice Band  NaN   100   \n",
       "                   Weezing       Levitate    Choice Band  NaN   100   \n",
       "\n",
       "                                     move-0               move-1  \\\n",
       "trainer            species                                         \n",
       "Aqua Admin Matt #1 Dragonite     Superpower           Rock Slide   \n",
       "                   Exeggutor      Explosion             Egg Bomb   \n",
       "                   Gyarados      Earthquake  Hidden Power Flying   \n",
       "                   Machamp       Superpower           Earthquake   \n",
       "                   Slaking       Hyper Beam                 Surf   \n",
       "...                                     ...                  ...   \n",
       "Youngster Ray04    Golem          Explosion                  NaN   \n",
       "                   Sableye      Shadow Ball          Brick Break   \n",
       "                   Snorlax    Self-Destruct                  NaN   \n",
       "                   Wailord    Self-Destruct                  NaN   \n",
       "                   Weezing        Explosion                  NaN   \n",
       "\n",
       "                                    move-2              move-3  \\\n",
       "trainer            species                                       \n",
       "Aqua Admin Matt #1 Dragonite    Earthquake       Extreme Speed   \n",
       "                   Exeggutor       Psychic       Ancient Power   \n",
       "                   Gyarados   Dragon Dance         Frustration   \n",
       "                   Machamp      Rock Slide  Hidden Power Ghost   \n",
       "                   Slaking      Earthquake         Shadow Ball   \n",
       "...                                    ...                 ...   \n",
       "Youngster Ray04    Golem               NaN                 NaN   \n",
       "                   Sableye             NaN                 NaN   \n",
       "                   Snorlax             NaN                 NaN   \n",
       "                   Wailord             NaN                 NaN   \n",
       "                   Weezing             NaN                 NaN   \n",
       "\n",
       "                                                                          moves  \\\n",
       "trainer            species                                                        \n",
       "Aqua Admin Matt #1 Dragonite  [Superpower, Rock Slide, Earthquake, Extreme S...   \n",
       "                   Exeggutor      [Explosion, Egg Bomb, Psychic, Ancient Power]   \n",
       "                   Gyarados   [Earthquake, Hidden Power Flying, Dragon Dance...   \n",
       "                   Machamp    [Superpower, Earthquake, Rock Slide, Hidden Po...   \n",
       "                   Slaking          [Hyper Beam, Surf, Earthquake, Shadow Ball]   \n",
       "...                                                                         ...   \n",
       "Youngster Ray04    Golem                                            [Explosion]   \n",
       "                   Sableye                           [Shadow Ball, Brick Break]   \n",
       "                   Snorlax                                      [Self-Destruct]   \n",
       "                   Wailord                                      [Self-Destruct]   \n",
       "                   Weezing                                          [Explosion]   \n",
       "\n",
       "                              nature    species             trainer  \n",
       "trainer            species                                           \n",
       "Aqua Admin Matt #1 Dragonite     NaN  Dragonite  Aqua Admin Matt #1  \n",
       "                   Exeggutor   Timid  Exeggutor  Aqua Admin Matt #1  \n",
       "                   Gyarados     Mild   Gyarados  Aqua Admin Matt #1  \n",
       "                   Machamp    Impish    Machamp  Aqua Admin Matt #1  \n",
       "                   Slaking    Gentle    Slaking  Aqua Admin Matt #1  \n",
       "...                              ...        ...                 ...  \n",
       "Youngster Ray04    Golem       Brave      Golem     Youngster Ray04  \n",
       "                   Sableye     Sassy    Sableye     Youngster Ray04  \n",
       "                   Snorlax      Calm    Snorlax     Youngster Ray04  \n",
       "                   Wailord     Quiet    Wailord     Youngster Ray04  \n",
       "                   Weezing      Mild    Weezing     Youngster Ray04  \n",
       "\n",
       "[1447 rows x 12 columns]"
      ]
     },
     "execution_count": 365,
     "metadata": {},
     "output_type": "execute_result"
    }
   ],
   "source": [
    "y"
   ]
  }
 ],
 "metadata": {
  "kernelspec": {
   "display_name": "Python 3",
   "language": "python",
   "name": "python3"
  },
  "language_info": {
   "codemirror_mode": {
    "name": "ipython",
    "version": 3
   },
   "file_extension": ".py",
   "mimetype": "text/x-python",
   "name": "python",
   "nbconvert_exporter": "python",
   "pygments_lexer": "ipython3",
   "version": "3.10.9"
  }
 },
 "nbformat": 4,
 "nbformat_minor": 2
}
